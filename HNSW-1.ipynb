{
 "cells": [
  {
   "cell_type": "markdown",
   "metadata": {},
   "source": [
    "To install:\n",
    "pip install numpy\n",
    "pip install hnswlib"
   ]
  },
  {
   "cell_type": "code",
   "execution_count": 15,
   "metadata": {},
   "outputs": [
    {
     "name": "stdout",
     "output_type": "stream",
     "text": [
      "/Users/al/repos/github/HNSW_PY\n"
     ]
    }
   ],
   "source": [
    "!pwd"
   ]
  },
  {
   "cell_type": "code",
   "execution_count": 16,
   "metadata": {},
   "outputs": [],
   "source": [
    "import hnswlib\n",
    "import numpy as np\n",
    "import pickle"
   ]
  },
  {
   "cell_type": "code",
   "execution_count": 17,
   "metadata": {},
   "outputs": [],
   "source": [
    "#Globals\n",
    "dim = 128\n",
    "num_elements = 10000"
   ]
  },
  {
   "cell_type": "code",
   "execution_count": 18,
   "metadata": {},
   "outputs": [],
   "source": [
    "# Generating sample data\n",
    "data = np.float32(np.random.random((num_elements, dim)))\n",
    "ids = np.arange(num_elements)"
   ]
  },
  {
   "cell_type": "code",
   "execution_count": 19,
   "metadata": {},
   "outputs": [],
   "source": [
    "# Declaring index\n",
    "p = hnswlib.Index(space = 'l2', dim = dim) # possible options are l2, cosine or ip\n",
    "\n",
    "# Initializing index - the maximum number of elements should be known beforehand\n",
    "p.init_index(max_elements = num_elements, ef_construction = 200, M = 16)\n",
    "\n",
    "# Element insertion (can be called several times):\n",
    "p.add_items(data, ids)"
   ]
  },
  {
   "cell_type": "code",
   "execution_count": 20,
   "metadata": {},
   "outputs": [],
   "source": [
    "#Query the index\n",
    "# Query dataset, k - number of the closest elements (returns 2 numpy arrays)\n",
    "labels, distances = p.knn_query(data[0:10], k = 1)"
   ]
  },
  {
   "cell_type": "code",
   "execution_count": 21,
   "metadata": {},
   "outputs": [
    {
     "name": "stdout",
     "output_type": "stream",
     "text": [
      "labels shape = (10, 1)\n",
      "[[   0]\n",
      " [   1]\n",
      " [   2]\n",
      " [   3]\n",
      " [4363]\n",
      " [   5]\n",
      " [   6]\n",
      " [   7]\n",
      " [   8]\n",
      " [   9]]\n"
     ]
    }
   ],
   "source": [
    "print( f\"labels shape = {labels.shape}\" )\n",
    "print( labels )"
   ]
  },
  {
   "cell_type": "code",
   "execution_count": 22,
   "metadata": {},
   "outputs": [
    {
     "name": "stdout",
     "output_type": "stream",
     "text": [
      "distances shape = (10, 1)\n",
      "[[ 0.     ]\n",
      " [ 0.     ]\n",
      " [ 0.     ]\n",
      " [ 0.     ]\n",
      " [15.80136]\n",
      " [ 0.     ]\n",
      " [ 0.     ]\n",
      " [ 0.     ]\n",
      " [ 0.     ]\n",
      " [ 0.     ]]\n"
     ]
    }
   ],
   "source": [
    "print( f\"distances shape = {distances.shape}\" )\n",
    "print( distances )"
   ]
  }
 ],
 "metadata": {
  "kernelspec": {
   "display_name": ".venv",
   "language": "python",
   "name": "python3"
  },
  "language_info": {
   "codemirror_mode": {
    "name": "ipython",
    "version": 3
   },
   "file_extension": ".py",
   "mimetype": "text/x-python",
   "name": "python",
   "nbconvert_exporter": "python",
   "pygments_lexer": "ipython3",
   "version": "3.11.1"
  },
  "orig_nbformat": 4
 },
 "nbformat": 4,
 "nbformat_minor": 2
}
